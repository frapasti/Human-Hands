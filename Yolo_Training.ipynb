{
 "cells": [
  {
   "cell_type": "markdown",
   "metadata": {
    "id": "ZepRJHEMHLKG"
   },
   "source": [
    "# #TODOs\n",
    "* Find the best architecture on a small dataset (See 3. for details)\n",
    "* Create a batch generation function in order to not fill the memory of Colab --> DONE! ;)\n",
    "* Train the best architecture on the new batch generator\n",
    "\n",
    "\n",
    "\n",
    "\n",
    "\n"
   ]
  },
  {
   "cell_type": "markdown",
   "metadata": {
    "id": "0xitDj09iWxz"
   },
   "source": [
    "# IMPORTS\n",
    "\n",
    "* Import all the needed libraries for the notebook\n",
    "* Mount the drive containing the datasets\n",
    "* Unzip the a small part of the dataset\n",
    "\n",
    "\n",
    "\n",
    "\n",
    "\n"
   ]
  },
  {
   "cell_type": "code",
   "execution_count": 2,
   "metadata": {
    "colab": {
     "base_uri": "https://localhost:8080/"
    },
    "id": "0K0ulR4GIezQ",
    "outputId": "de7a4f00-6c6c-4833-b71c-2154f06f858d"
   },
   "outputs": [],
   "source": [
    "import sys\n",
    "import os\n",
    "from natsort import natsorted\n",
    "import imutils\n",
    "import cv2\n",
    "import matplotlib.pyplot as plt\n",
    "import numpy as np\n",
    "from math import trunc\n",
    "import json\n",
    "\n",
    "import tensorflow as tf\n",
    "from tensorflow import keras\n",
    "from keras.models import Sequential \n",
    "from tensorflow.keras.utils import load_img\n",
    "from tensorflow.keras.utils import img_to_array\n",
    "from keras.layers.core import Dense, Dropout, Activation \n",
    "from keras.utils import np_utils\n",
    "from keras.layers import LeakyReLU   \n",
    "from keras.regularizers import l2  \n",
    "from keras.models import Model                   \n",
    "from pathlib import Path\n",
    "\n",
    "def listdir_fullpath(d):\n",
    "    return [os.path.join(d, f) for f in os.listdir(d)]"
   ]
  },
  {
   "cell_type": "markdown",
   "metadata": {
    "id": "KhHQ6f_lidwe"
   },
   "source": [
    "# Data preparation"
   ]
  },
  {
   "cell_type": "markdown",
   "metadata": {
    "id": "8QOJFcuch8Q8"
   },
   "source": [
    "Get all the bboxes path and all the img_paths\n",
    "Additionally read all the text files corresponding to the bounding boxes and append them to a list.\n",
    "**bboxes** contains lists of bounding boxes, one per image"
   ]
  },
  {
   "cell_type": "code",
   "execution_count": 3,
   "metadata": {
    "id": "b59cil7YJJRM"
   },
   "outputs": [],
   "source": [
    "  #-------------#\n",
    "  #| EGO HANDS |#\n",
    "  #------------ #\n",
    "\n",
    "#Get from the unzipped dataset the list of all the paths of images and txt files\n",
    "#listdir returns unsorted so use natsorted method!\n",
    "\n",
    "#paths needed for the training set\n",
    "bboxes_paths = natsorted(listdir_fullpath(r'C:\\Users\\39380\\Desktop\\Yolo_DATASET\\egoHands\\egoHands\\boundingboxes'))\n",
    "img_paths = natsorted(listdir_fullpath(r'C:\\Users\\39380\\Desktop\\Yolo_DATASET\\egoHands\\egoHands\\frames'))\n",
    "\n",
    "assert len(bboxes_paths) == len(img_paths), f\"Number of bboxes_paths doesn't correspond with number of images!\"\n",
    "\n",
    "#Read all the text files and create a list of list of bounding boxes for the training, one list per image \n",
    "bboxes = []*len(bboxes_paths)\n",
    "for path in bboxes_paths:\n",
    "    bboxes_it = []\n",
    "    file = open(path, 'r')\n",
    "    Lines = file.readlines()\n",
    "    for line in Lines:\n",
    "        box = line.split(',')\n",
    "        if(not(int(box[0]) == 0 and int(box[1]) == 0 and int(box[2]) == 0 and int(box[3]) == 0)):\n",
    "            bboxes_it.append([int(x) for x in box])\n",
    "    bboxes.append(bboxes_it)\n",
    "\n",
    "assert(len(bboxes) == len(img_paths))"
   ]
  },
  {
   "cell_type": "code",
   "execution_count": null,
   "metadata": {
    "id": "uLdotMtBBNBv"
   },
   "outputs": [],
   "source": [
    "  #------------------------#\n",
    "  #| HEGO HORIZONTAL FLIP |#\n",
    "  #------------------------#\n",
    "\n",
    "horizontalBboxes_paths = natsorted(listdir_fullpath(r'C:\\Users\\39380\\Desktop\\Yolo_DATASET\\HorizontalFlip\\HorizontalFlip\\boundingboxes_horizontalflip'))\n",
    "horizontalImg_paths = natsorted(listdir_fullpath(r'C:\\Users\\39380\\Desktop\\Yolo_DATASET\\HorizontalFlip\\HorizontalFlip\\images_horizontalflip'))\n",
    "\n",
    "assert len(horizontalBboxes_paths) == len(horizontalImg_paths), f\"Number of bboxes_paths doesn't correspond with number of images!\"\n",
    "\n",
    "for path in horizontalBboxes_paths:\n",
    "    bboxes_it = []\n",
    "    file = open(path, 'r')\n",
    "    Lines = file.readlines()\n",
    "    for line in Lines:\n",
    "        box = line.split(',')\n",
    "        if(not(int(box[0]) == 0 and int(box[1]) == 0 and int(box[2]) == 0 and int(box[3]) == 0)):\n",
    "            bboxes_it.append([int(x) for x in box])\n",
    "    bboxes.append(bboxes_it)\n",
    "\n",
    "for path in horizontalImg_paths:\n",
    "    img_paths.append(path)\n",
    "\n",
    "assert(len(bboxes) == len(img_paths))"
   ]
  },
  {
   "cell_type": "code",
   "execution_count": null,
   "metadata": {
    "id": "VFFlMg72CQ5D"
   },
   "outputs": [],
   "source": [
    "#---------------------#\n",
    "#| EGO VERTICAL FLIP |#\n",
    "#---------------------#\n",
    "\n",
    "verticalBboxes_paths = natsorted(listdir_fullpath(r'C:\\Users\\39380\\Desktop\\Yolo_DATASET\\VerticalFlip\\VerticalFlip\\boundingboxes_verticalflip'))\n",
    "verticalImg_paths = natsorted(listdir_fullpath(r'C:\\Users\\39380\\Desktop\\Yolo_DATASET\\VerticalFlip\\VerticalFlip\\images_verticalflip'))\n",
    "\n",
    "assert len(verticalBboxes_paths) == len(verticalImg_paths), f\"Number of bboxes_paths doesn't correspond with number of images!\"\n",
    "\n",
    "for path in verticalBboxes_paths:\n",
    "    bboxes_it = []\n",
    "    file = open(path, 'r')\n",
    "    Lines = file.readlines()\n",
    "    for line in Lines:\n",
    "        box = line.split(',')\n",
    "        if(not(int(box[0]) == 0 and int(box[1]) == 0 and int(box[2]) == 0 and int(box[3]) == 0)):\n",
    "            bboxes_it.append([int(x) for x in box])\n",
    "    bboxes.append(bboxes_it)\n",
    "\n",
    "for path in verticalImg_paths:\n",
    "    img_paths.append(path)\n",
    "\n",
    "assert(len(bboxes) == len(img_paths))"
   ]
  },
  {
   "cell_type": "code",
   "execution_count": 4,
   "metadata": {
    "id": "TCefBHR7EM1D"
   },
   "outputs": [],
   "source": [
    "#---------------#\n",
    "#| COLOR HANDS |#\n",
    "#---------------#\n",
    "\n",
    "colorBboxes_paths = natsorted(listdir_fullpath(r'C:\\Users\\39380\\Desktop\\Yolo_DATASET\\ColorDA\\ColorDA\\boundingboxes'))\n",
    "colorImg_paths = natsorted(listdir_fullpath(r'C:\\Users\\39380\\Desktop\\Yolo_DATASET\\ColorDA\\ColorDA\\frames'))\n",
    "\n",
    "assert len(colorBboxes_paths) == len(colorImg_paths), f\"Number of bboxes_paths doesn't correspond with number of images!\"\n",
    "\n",
    "for path in colorBboxes_paths:\n",
    "    bboxes_it = []\n",
    "    file = open(path, 'r')\n",
    "    Lines = file.readlines()\n",
    "    for line in Lines:\n",
    "        bboxes_it.append([int(float(x)) for x in line.split(',')])\n",
    "    bboxes.append(bboxes_it)\n",
    "\n",
    "for path in colorImg_paths:\n",
    "    img_paths.append(path)\n",
    "\n",
    "assert(len(bboxes) == len(img_paths))"
   ]
  },
  {
   "cell_type": "code",
   "execution_count": 5,
   "metadata": {
    "id": "3U1BlvluLkDf"
   },
   "outputs": [],
   "source": [
    "#------------#\n",
    "#| NO HANDS |#\n",
    "#------------#\n",
    "noHands_paths = natsorted(listdir_fullpath(r'C:\\Users\\39380\\Desktop\\Yolo_DATASET\\noHands\\noHands'))\n",
    "\n",
    "for path in noHands_paths:\n",
    "    img_paths.append(path)\n",
    "    bboxes.append([])\n",
    "\n",
    "assert(len(bboxes) == len(img_paths))"
   ]
  },
  {
   "cell_type": "code",
   "execution_count": 6,
   "metadata": {
    "id": "d3Rb-_PmV-cK"
   },
   "outputs": [],
   "source": [
    "#-------------------#\n",
    "#| HANDS OVER FACE |#\n",
    "#-------------------#\n",
    "\n",
    "hofBboxes_paths = natsorted(listdir_fullpath(r'C:\\Users\\39380\\Desktop\\Yolo_DATASET\\handsOverFaces\\handsOverFaces\\boundingboxes'))\n",
    "hofImg_paths = natsorted(listdir_fullpath(r'C:\\Users\\39380\\Desktop\\Yolo_DATASET\\handsOverFaces\\handsOverFaces\\frames'))\n",
    "\n",
    "assert len(hofBboxes_paths) == len(hofImg_paths), f\"Number of bboxes_paths doesn't correspond with number of images!\"\n",
    "\n",
    "for path in hofBboxes_paths:\n",
    "    bboxes_it = []\n",
    "    file = open(path, 'r')\n",
    "    Lines = file.readlines()\n",
    "    for line in Lines:\n",
    "        bboxes_it.append([int(float(x)) for x in line.split(',')])\n",
    "    bboxes.append(bboxes_it)\n",
    "\n",
    "for path in hofImg_paths:\n",
    "    img_paths.append(path)\n",
    "\n",
    "assert(len(bboxes) == len(img_paths))"
   ]
  },
  {
   "cell_type": "markdown",
   "metadata": {
    "id": "mm-okWaUtGh4"
   },
   "source": [
    "# BATCH GENERATOR\n",
    "\n",
    "This class generates batches of data from the list of bboxes and img_paths, in this way new batches are genereated every epoch and ram problems, derived from creating a single really big X and Y, are avoided.\n",
    "\n",
    "The images and boxes have to be passed converted in a specific format in order for Yolo to work:\n",
    "\n",
    "Each input image is resized to 448x448 format as required by Yolo for its input.\n",
    "Now create the grid of cells that Yolo analyzes.\n",
    "The size of the grid is 8x8 meaning that each cell will have a size of 52x52.\n",
    "\n",
    "For each bounding box calculate its center, the center will be the grid at which the bounding box is associated.\n",
    "Each grid cell has a bounding box associated with it (zero if no bounding box). The bounding box has this form [P, Ox, Oy, W, H]:\n",
    "\n",
    "\n",
    "*   P = probability that there's a hand (always 1 since we are taking ground truth boxes)\n",
    "*   Ox = X center of the bounding box w.r.t to that grid, each grid has coordinates defined by (0,0) and (1,1) being respectively the up-left and down-rigth corner of such grid\n",
    "*   Oy = Y center with same reasoning as above\n",
    "*   W = width of the bounding box w.r.t the grid size\n",
    "*   H = height of the bounding box w.r.t. the grid size\n",
    "\n",
    "So, as an example, a bounding box b = [208,208,104,104] will be associated to the cell at row = 3 and column = 3 and become b_new = [1 ,0.5 ,0.5 , 2, 2]\n",
    "\n"
   ]
  },
  {
   "cell_type": "code",
   "execution_count": 7,
   "metadata": {
    "id": "ZLfIgMvqW8NF"
   },
   "outputs": [],
   "source": [
    "import numpy as np\n",
    "\n",
    "class DataGenerator(tf.keras.utils.Sequence):\n",
    "    'Generates data for Keras'\n",
    "    def __init__(self, path_list, bboxes_list, batch_size=32, dim=(448,448,3),\n",
    "                 divisions=7, shuffle=True):\n",
    "        'Initialization'\n",
    "        self.dim = dim\n",
    "        self.batch_size = batch_size\n",
    "        self.path_list = path_list\n",
    "        self.S = divisions\n",
    "        self.bboxes_list = bboxes_list\n",
    "        self.shuffle = shuffle\n",
    "        self.on_epoch_end() #triggered at beginning and end of each epoch\n",
    "        self.cell_size = dim[0]/divisions\n",
    "\n",
    "    def __len__(self):\n",
    "        'Denotes the number of batches per epoch'\n",
    "        return int(np.floor(len(self.path_list) / self.batch_size))\n",
    "\n",
    "    def __getitem__(self, index):\n",
    "        'Generate one batch of data'\n",
    "         # Generate indexes of the batch\n",
    "        indexes = self.indexes[index*self.batch_size:(index+1)*self.batch_size]\n",
    "\n",
    "        # Generate data\n",
    "        X, Y = self.__data_generation(indexes)\n",
    "\n",
    "        return X, Y\n",
    "\n",
    "    def on_epoch_end(self):\n",
    "        'Updates indexes after each epoch'\n",
    "        self.indexes = np.arange(len(self.path_list))\n",
    "        if self.shuffle == True: # For more robust data\n",
    "            np.random.shuffle(self.indexes)\n",
    "\n",
    "    def __data_generation(self, indexes):\n",
    "        'Generates data containing batch_size samples' # X : (n_samples, *dim, n_channels)\n",
    "        # Initialization\n",
    "        X = np.empty((self.batch_size, *self.dim))\n",
    "        Y = np.empty((self.batch_size,self.S,self.S,5))\n",
    "        \n",
    "        batch_num = 0\n",
    "        # Generate data\n",
    "        for i in indexes:\n",
    "            original_img = load_img(self.path_list[i])\n",
    "            width, height = original_img.size\n",
    "            # load the image with the required size and calculate scale factors\n",
    "            image = load_img(self.path_list[i], target_size=(448,448))\n",
    "            scale_w = 448 / width \n",
    "            scale_h = 448 / height\n",
    "            image = img_to_array(image)\n",
    "            # scale pixel values to [0, 1]\n",
    "            image = image.astype('float32')\n",
    "            image /= 255.0\n",
    "            y_img = np.zeros((self.S,self.S,5))\n",
    "            for box in self.bboxes_list[i]:\n",
    "                xleft = int(box[0] * scale_w)\n",
    "                yleft = int(box[1] * scale_h)\n",
    "                b_width = int(box[2] * scale_w)\n",
    "                b_height = int(box[3] * scale_h)\n",
    "                ox = xleft + b_width/2\n",
    "                oy = yleft + b_height/2\n",
    "                # Calculate the coordinates of the cell in the grid that contains the center \n",
    "                grid_col = trunc(ox/self.cell_size)\n",
    "                grid_row = trunc(oy/self.cell_size) \n",
    "                # Calculate the coordinates of the center of the bbox w.r.t the associated cell; (0,0) top left and (1,1) bottom right corners of the cell\n",
    "                ox_cell = (ox - (grid_col)*self.cell_size)/self.cell_size\n",
    "                oy_cell = (oy - (grid_row)*self.cell_size)/self.cell_size\n",
    "                # Calculate the width and height of the bbox in terms of cell size, a bbox of width 448/S(cell size) will have grid_width = 1\n",
    "                grid_width = b_width/self.cell_size\n",
    "                grid_heigth = b_height/self.cell_size\n",
    "                # Put the results into y; 1 represent the probability of the class\n",
    "                y = [1,ox_cell,oy_cell,grid_width,grid_heigth]\n",
    "                y_img[grid_row][grid_col] = y\n",
    "        \n",
    "            # Store sample\n",
    "            X[batch_num,] = image\n",
    "\n",
    "            # Store grid\n",
    "            Y[batch_num,] = y_img\n",
    "        \n",
    "            batch_num += 1\n",
    "\n",
    "        return X, Y"
   ]
  },
  {
   "cell_type": "markdown",
   "metadata": {
    "id": "Ba1UYkmR7M4_"
   },
   "source": [
    "# LOSS FUNCTION\n",
    "Definition of the loss function as the one used in the paper but simpler.\n",
    "\n",
    "There are just 5 parameters for each cell [P, x, y, w, h] thus one bounding box per cell.\n",
    "\n",
    "Hence penalize the sum square root of x,y,(w)^1/2,(h)^1/2 as in the paper but just for the cells that contain a box so those with P = y_true[0] = 1.\n",
    "\n",
    "Then penalize the sum square root of P.\n",
    "\n",
    "Then penalize the sum square root of P for the cells that do not contain boxes hence with P = y_true[0] = 0.\n"
   ]
  },
  {
   "cell_type": "code",
   "execution_count": 8,
   "metadata": {
    "id": "zmmOcnl9MkKj"
   },
   "outputs": [],
   "source": [
    "def custom_loss(y_true, y_pred):\n",
    "    # y_true (Batch size, 7, 7, 5)\n",
    "    # y_pred (Batch size, 7, 7, 5)\n",
    "\n",
    "    mse = tf.keras.losses.MeanSquaredError(reduction = \"sum\") # Define the SUM squared error loss\n",
    "    predictions = tf.reshape(y_pred,(-1,7,7,5)) # The predictions are a tensor, need some reshaping to manipulate it\n",
    "\n",
    "    exists_box = tf.expand_dims(y_true[...,0], 3) # A box exists if the first entry of the cell is equal to 1 \n",
    "\n",
    "    #------------#\n",
    "    #| BOX LOSS |#\n",
    "    #------------#\n",
    "\n",
    "    pred_box = exists_box*predictions[...,1:5] #Calculate only loss for the cells that contain a box\n",
    "    target_box = exists_box*y_true[...,1:5] #Target boxes\n",
    "\n",
    "    epsilon = tf.fill(tf.shape(pred_box[..., 2:4]), 1e-6) #Needed to avoid divergence of square root derivatives in back propagation\n",
    "\n",
    "    # width and height are penalyzed using the square root, however predictions can be negative so multiply by sign in order to obtain positive\n",
    "    # and take absoulte value in the square root \n",
    "    wh_pred = tf.math.sign(pred_box[...,3:5]) * tf.math.sqrt(tf.math.abs(pred_box[...,3:5] + epsilon))\n",
    "    wh_targ = tf.math.sqrt(target_box[...,3:5] + epsilon)\n",
    "\n",
    "    # Get also centers\n",
    "    xy_pred = pred_box[...,1:3]\n",
    "    xy_true = target_box[...,1:3]\n",
    "\n",
    "    # Concatenate the new xy and wh in order to calculate sum squared root\n",
    "    final_pred_box = tf.concat([xy_pred,wh_pred], axis = 3)\n",
    "    final_true_box = tf.concat([xy_true,wh_targ], axis = 3)\n",
    "    box_loss = mse(tf.reshape(final_pred_box, (-1, tf.shape(final_pred_box)[-1])),tf.reshape(final_true_box, (-1, tf.shape(final_true_box)[-1])))\n",
    "    \n",
    "    #---------------#\n",
    "    #| OBJECT LOSS |#\n",
    "    #---------------#\n",
    "    \n",
    "    # Take only the first entry of each box corresponding to the probability that there's an object\n",
    "    pred_obj = predictions[...,0:1]\n",
    "    true_obj = y_true[...,0:1]\n",
    "\n",
    "    #Calculate object loss as in the paper\n",
    "    object_loss = mse(tf.reshape(exists_box*pred_obj, (-1, )), tf.reshape(exists_box*true_obj, (-1, )) )\n",
    "\n",
    "    #------------------#\n",
    "    #| NO OBJECT LOSS |#\n",
    "    #------------------#\n",
    "\n",
    "    # Calculate the loss for cells that don't have objects\n",
    "    non_exists_box = 1 - exists_box\n",
    "    no_object_loss = mse(tf.reshape(non_exists_box*pred_obj, (-1, )), tf.reshape(non_exists_box*true_obj, (-1, )))\n",
    "\n",
    "    #--------------#\n",
    "    #| FINAL LOSS |#\n",
    "    #--------------#\n",
    "\n",
    "    # Penalize more the box loss and less the no object loss   \n",
    "    total_loss = 5*box_loss + object_loss + 0.5*no_object_loss\n",
    "    return total_loss"
   ]
  },
  {
   "cell_type": "code",
   "execution_count": 9,
   "metadata": {
    "colab": {
     "base_uri": "https://localhost:8080/"
    },
    "id": "ukGJ5PKfraU4",
    "outputId": "f69c5e26-7726-48d9-82a7-996c8465b1b6"
   },
   "outputs": [
    {
     "data": {
      "text/plain": [
       "<tf.Tensor: shape=(), dtype=float32, numpy=21.84129>"
      ]
     },
     "execution_count": 9,
     "metadata": {},
     "output_type": "execute_result"
    }
   ],
   "source": [
    "# Test that the loss function works returning a numpy number\n",
    "x = tf.random.uniform((2, 7, 7, 5))\n",
    "y = tf.random.uniform((2, 7, 7, 5))\n",
    "custom_loss(x,y)"
   ]
  },
  {
   "cell_type": "markdown",
   "metadata": {
    "id": "U8ydV7apJrYR"
   },
   "source": [
    "# **!!READ ME!!**\n",
    "\n",
    "In order to evaluate you need to compile only one of the following three sections! In each of them there's a different model but all of them are called Yolo\n",
    "\n",
    "\n",
    "1.   Best architecture so far already trained + its skeleton\n",
    "2.   Architecture based on a Pre-trained model (Very skippable apparently (but never say never))\n",
    "3.   Custom architecture\n",
    "\n",
    "For trial change section 3, if such architecure is better than 1 go on and change 1 :) \n",
    "\n"
   ]
  },
  {
   "cell_type": "markdown",
   "metadata": {
    "id": "zvgoytrI1sv3"
   },
   "source": [
    "# 1. Best architecture (already trained)\n",
    "Compile to have best architecture so far:\n",
    "\n",
    "* Number of parameters : 3,100,917\n",
    "* Loss : 5.1834 (40 epochs on egoHands)\n",
    "* Accuracy : 0.0716 "
   ]
  },
  {
   "cell_type": "code",
   "execution_count": null,
   "metadata": {
    "colab": {
     "base_uri": "https://localhost:8080/"
    },
    "id": "3zovt7OBNCsJ",
    "outputId": "e9718588-dfba-440f-b286-5ee5a4d67e9f"
   },
   "outputs": [],
   "source": [
    "tf.keras.backend.clear_session()\n",
    "\n",
    "\n",
    "yolo = Sequential()\n",
    "lrelu = LeakyReLU(alpha=0.1)\n",
    "\n",
    "yolo.add(tf.keras.layers.Conv2D(32, (7, 7), padding=\"same\", activation = lrelu, strides = (1,1), input_shape=(448,448,3), kernel_regularizer=l2(5e-4)))\n",
    "yolo.add(tf.keras.layers.MaxPooling2D(pool_size=(2, 2),strides = (2,2), padding = 'same'))\n",
    "\n",
    "yolo.add(tf.keras.layers.Conv2D(64, (3, 3), padding=\"same\", strides = (2,2), activation = lrelu, kernel_regularizer=l2(5e-4) ))\n",
    "yolo.add(tf.keras.layers.MaxPooling2D(pool_size=(2, 2),strides = (2,2), padding = 'same'))\n",
    "\n",
    "yolo.add(tf.keras.layers.Conv2D(64, (1, 1), padding=\"same\", strides = (2,2), activation = lrelu, kernel_regularizer=l2(5e-4)))\n",
    "yolo.add(tf.keras.layers.MaxPooling2D(pool_size=(2, 2),strides = (2,2), padding = 'same'))\n",
    "\n",
    "yolo.add(tf.keras.layers.Reshape((12544,), input_shape=(14,14,64)))\n",
    "\n",
    "\n",
    "yolo.add(Dense(245))\n",
    "\n",
    "yolo.add(tf.keras.layers.Reshape((7,7,5), input_shape=(245,)))\n",
    "\n",
    "\n",
    "yolo.summary()"
   ]
  },
  {
   "cell_type": "markdown",
   "metadata": {
    "id": "DfCPq6pOeVTD"
   },
   "source": [
    "If you want to skip the training just load the model weights by executing the next cell"
   ]
  },
  {
   "cell_type": "code",
   "execution_count": null,
   "metadata": {
    "id": "Btjomb5heUrN"
   },
   "outputs": [],
   "source": [
    "yolo.load_weights(r'C:\\Users\\franc\\Desktop\\Yolo_Hand\\Model\\yolo.h5')"
   ]
  },
  {
   "cell_type": "markdown",
   "metadata": {
    "id": "SbcVW3-XpoWe"
   },
   "source": [
    "# 2. Custom architecture\n",
    "For trials and to hopefully replace 1. ;)\n",
    "\n",
    "To try:\n",
    "\n",
    "*   Sigmoid activation?\n",
    "*   Dropout?\n",
    "*   Add a dense layer before Dense(245)? -> There's one in the paper\n",
    "*   Batch Normalization? -> In the paper they say that with BNorm dropout is not needed\n",
    "\n",
    "\n"
   ]
  },
  {
   "cell_type": "code",
   "execution_count": null,
   "metadata": {
    "colab": {
     "base_uri": "https://localhost:8080/"
    },
    "id": "sK9I8FmmO9jb",
    "outputId": "2187bf31-0481-4aa5-f4c1-c9040c25f463"
   },
   "outputs": [],
   "source": [
    "from tensorflow.keras.models import Sequential\n",
    "from tensorflow.keras.layers import Dense,Dropout, Flatten, Reshape, BatchNormalization\n",
    "from tensorflow.keras.layers import Conv2D, MaxPooling2D\n",
    "\n",
    "yolo = Sequential()\n",
    "\n",
    "yolo.add(Conv2D(26, (3,3), padding=\"same\", strides = (1,1), input_shape=(448,448,3), kernel_regularizer=l2(5e-4)))#for large images it is better to use kernel >3\n",
    "yolo.add(BatchNormalization()) #Batch normalization needs to be executed before lrelu apparently \n",
    "yolo.add(LeakyReLU(alpha=0.1))\n",
    "yolo.add(MaxPooling2D(pool_size=(2, 2),strides = (2,2), padding = 'same'))\n",
    "\n",
    "yolo.add(Conv2D(26, (7,7), padding=\"same\", strides = (1,1), kernel_regularizer=l2(5e-4)))\n",
    "yolo.add(BatchNormalization()) #Batch normalization needs to be executed before lrelu apparently \n",
    "yolo.add(LeakyReLU(alpha=0.1))\n",
    "yolo.add(MaxPooling2D(pool_size=(2, 2),strides = (2,2), padding = 'same'))\n",
    "\n",
    "yolo.add(Conv2D(52, (3, 3), padding=\"same\", strides = (2,2), kernel_regularizer=l2(5e-4)))\n",
    "yolo.add(BatchNormalization()) \n",
    "yolo.add(LeakyReLU(alpha=0.1))\n",
    "yolo.add(MaxPooling2D(pool_size=(2, 2),strides = (2,2), padding = 'same'))\n",
    "\n",
    "yolo.add(Conv2D(104, (3,3), padding=\"same\", kernel_regularizer=l2(5e-4)))\n",
    "yolo.add(BatchNormalization())\n",
    "yolo.add(LeakyReLU(alpha=0.1))\n",
    "yolo.add(MaxPooling2D(pool_size=(2, 2),strides = (2,2), padding = 'same'))\n",
    "\n",
    "yolo.add(Conv2D(104, (7,7), padding=\"same\", kernel_regularizer=l2(5e-4)))\n",
    "yolo.add(BatchNormalization())\n",
    "yolo.add(LeakyReLU(alpha=0.1))\n",
    "yolo.add(MaxPooling2D(pool_size=(2, 2),strides = (2,2), padding = 'same'))\n",
    "\n",
    "yolo.add(Reshape((5096,), input_shape=(7, 7, 104)))\n",
    "\n",
    "yolo.add(Dense(2048))\n",
    "#2yolo.add(Dropout(0.2))\n",
    "yolo.add(BatchNormalization())\n",
    "yolo.add(LeakyReLU(alpha=0.1))\n",
    "\n",
    "yolo.add(Dense(245))\n",
    "#yolo.add(Dropout(0.2))\n",
    "\n",
    "yolo.add(Reshape((7,7,5), input_shape=(245,)))\n"
   ]
  },
  {
   "cell_type": "code",
   "execution_count": 28,
   "metadata": {},
   "outputs": [
    {
     "name": "stdout",
     "output_type": "stream",
     "text": [
      "Model: \"sequential\"\n",
      "_________________________________________________________________\n",
      " Layer (type)                Output Shape              Param #   \n",
      "=================================================================\n",
      " conv2d (Conv2D)             (None, 448, 448, 32)      896       \n",
      "                                                                 \n",
      " max_pooling2d (MaxPooling2D  (None, 224, 224, 32)     0         \n",
      " )                                                               \n",
      "                                                                 \n",
      " dropout (Dropout)           (None, 224, 224, 32)      0         \n",
      "                                                                 \n",
      " conv2d_1 (Conv2D)           (None, 224, 224, 64)      18496     \n",
      "                                                                 \n",
      " conv2d_2 (Conv2D)           (None, 224, 224, 32)      2080      \n",
      "                                                                 \n",
      " conv2d_3 (Conv2D)           (None, 224, 224, 64)      18496     \n",
      "                                                                 \n",
      " max_pooling2d_1 (MaxPooling  (None, 112, 112, 64)     0         \n",
      " 2D)                                                             \n",
      "                                                                 \n",
      " dropout_1 (Dropout)         (None, 112, 112, 64)      0         \n",
      "                                                                 \n",
      " conv2d_4 (Conv2D)           (None, 112, 112, 128)     73856     \n",
      "                                                                 \n",
      " conv2d_5 (Conv2D)           (None, 112, 112, 64)      8256      \n",
      "                                                                 \n",
      " conv2d_6 (Conv2D)           (None, 112, 112, 128)     73856     \n",
      "                                                                 \n",
      " max_pooling2d_2 (MaxPooling  (None, 56, 56, 128)      0         \n",
      " 2D)                                                             \n",
      "                                                                 \n",
      " dropout_2 (Dropout)         (None, 56, 56, 128)       0         \n",
      "                                                                 \n",
      " conv2d_7 (Conv2D)           (None, 56, 56, 256)       295168    \n",
      "                                                                 \n",
      " conv2d_8 (Conv2D)           (None, 56, 56, 128)       32896     \n",
      "                                                                 \n",
      " conv2d_9 (Conv2D)           (None, 56, 56, 256)       295168    \n",
      "                                                                 \n",
      " max_pooling2d_3 (MaxPooling  (None, 28, 28, 256)      0         \n",
      " 2D)                                                             \n",
      "                                                                 \n",
      " dropout_3 (Dropout)         (None, 28, 28, 256)       0         \n",
      "                                                                 \n",
      " reshape (Reshape)           (None, 200704)            0         \n",
      "                                                                 \n",
      " dense (Dense)               (None, 245)               49172725  \n",
      "                                                                 \n",
      " reshape_1 (Reshape)         (None, 7, 7, 5)           0         \n",
      "                                                                 \n",
      "=================================================================\n",
      "Total params: 49,991,893\n",
      "Trainable params: 49,991,893\n",
      "Non-trainable params: 0\n",
      "_________________________________________________________________\n",
      "None\n"
     ]
    }
   ],
   "source": [
    "from keras.models import Sequential\n",
    "from keras.layers import Conv2D, MaxPooling2D, Flatten, Dense, Reshape, Dropout\n",
    "from keras.layers import LeakyReLU\n",
    "\n",
    "tf.keras.backend.clear_session()\n",
    "\n",
    "length =  448\n",
    "width = 448\n",
    "input_shape = (length, width, 3)\n",
    "\n",
    "#LeakyRelu = LeakyReLU(alpha=0.1)\n",
    "\n",
    "yolo = Sequential()\n",
    "\n",
    "yolo.add(Conv2D(32, (3, 3), input_shape=input_shape, activation='relu', padding='same'))\n",
    "yolo.add(MaxPooling2D((2,2)))\n",
    "yolo.add(Dropout(0.1))\n",
    "\n",
    "yolo.add(Conv2D(64, (3, 3), activation='relu', padding='same'))\n",
    "yolo.add(Conv2D(32, (1, 1), activation='relu', padding='same'))\n",
    "yolo.add(Conv2D(64, (3, 3), activation='relu', padding='same'))\n",
    "yolo.add(MaxPooling2D((2,2)))\n",
    "yolo.add(Dropout(1e-3))\n",
    "\n",
    "yolo.add(Conv2D(128, (3, 3), activation='relu', padding='same'))\n",
    "yolo.add(Conv2D(64, (1, 1), activation='relu', padding='same'))\n",
    "yolo.add(Conv2D(128, (3, 3), activation='relu', padding='same'))\n",
    "yolo.add(MaxPooling2D((2,2)))\n",
    "yolo.add(Dropout(1e-3))\n",
    "\n",
    "yolo.add(Conv2D(256, (3, 3), activation='relu', padding='same'))\n",
    "yolo.add(Conv2D(128, (1, 1), activation='relu', padding='same'))\n",
    "yolo.add(Conv2D(256, (3, 3), activation='relu', padding='same'))\n",
    "yolo.add(MaxPooling2D((2,2)))\n",
    "yolo.add(Dropout(1e-3))\n",
    "\n",
    "yolo.add(Reshape((200704,), input_shape=(28, 28, 256)))\n",
    "\n",
    "yolo.add(Dense(245, activation=\"sigmoid\"))\n",
    "\n",
    "yolo.add(Reshape((7,7,5), input_shape=(245,)))\n",
    "\n",
    "\n",
    "print (yolo.summary())"
   ]
  },
  {
   "cell_type": "code",
   "execution_count": null,
   "metadata": {},
   "outputs": [],
   "source": [
    "\n",
    "'''\n",
    "\n",
    "yolo.add(Conv2D(64, (7,7), padding=\"same\", strides = (1,1), input_shape=(448,448,3), kernel_regularizer=l2(5e-4)))#for large images it is better to use kernel >3\n",
    "yolo.add(tf.keras.layers.BatchNormalization()) #Batch normalization needs to be executed before lrelu apparently \n",
    "yolo.add(LeakyReLU(alpha=0.1))\n",
    "yolo.add(MaxPooling2D(pool_size=(2, 2),strides = (2,2), padding = 'same'))\n",
    "\n",
    "yolo.add(Conv2D(192, (3,3), padding=\"same\", strides = (1,1), kernel_regularizer=l2(5e-4)))#for large images it is better to use kernel >3\n",
    "yolo.add(tf.keras.layers.BatchNormalization()) #Batch normalization needs to be executed before lrelu apparently \n",
    "yolo.add(LeakyReLU(alpha=0.1))\n",
    "yolo.add(MaxPooling2D(pool_size=(2, 2),strides = (2,2), padding = 'same'))\n",
    "\n",
    "yolo.add(Conv2D(256, (3,3), padding=\"same\", strides = (1,1), kernel_regularizer=l2(5e-4)))#for large images it is better to use kernel >3\n",
    "yolo.add(tf.keras.layers.BatchNormalization()) #Batch normalization needs to be executed before lrelu apparently \n",
    "yolo.add(LeakyReLU(alpha=0.1))\n",
    "yolo.add(Conv2D(512, (3,3), padding=\"same\", strides = (1,1), kernel_regularizer=l2(5e-4)))#for large images it is better to use kernel >3\n",
    "yolo.add(tf.keras.layers.BatchNormalization()) #Batch normalization needs to be executed before lrelu apparently \n",
    "yolo.add(LeakyReLU(alpha=0.1))\n",
    "yolo.add(MaxPooling2D(pool_size=(2, 2),strides = (2,2), padding = 'same'))\n",
    "\n",
    "yolo.add(Conv2D(512, (3,3), padding=\"same\", strides = (1,1), kernel_regularizer=l2(5e-4)))#for large images it is better to use kernel >3\n",
    "yolo.add(tf.keras.layers.BatchNormalization()) #Batch normalization needs to be executed before lrelu apparently \n",
    "yolo.add(LeakyReLU(alpha=0.1))\n",
    "yolo.add(Conv2D(1024, (3,3), padding=\"same\", strides = (1,1), kernel_regularizer=l2(5e-4)))#for large images it is better to use kernel >3\n",
    "yolo.add(tf.keras.layers.BatchNormalization()) #Batch normalization needs to be executed before lrelu apparently \n",
    "yolo.add(LeakyReLU(alpha=0.1))\n",
    "yolo.add(MaxPooling2D(pool_size=(2, 2),strides = (2,2), padding = 'same'))\n",
    "\n",
    "yolo.add(Conv2D(1024, (3,3), padding=\"same\", strides = (1,1), kernel_regularizer=l2(5e-4)))#for large images it is better to use kernel >3\n",
    "yolo.add(tf.keras.layers.BatchNormalization()) #Batch normalization needs to be executed before lrelu apparently \n",
    "yolo.add(LeakyReLU(alpha=0.1))\n",
    "yolo.add(MaxPooling2D(pool_size=(2, 2),strides = (2,2), padding = 'same'))\n",
    "\n",
    "yolo.add(Conv2D(1024, (3,3), padding=\"same\", strides = (1,1), kernel_regularizer=l2(5e-4)))#for large images it is better to use kernel >3\n",
    "yolo.add(tf.keras.layers.BatchNormalization()) #Batch normalization needs to be executed before lrelu apparently \n",
    "yolo.add(LeakyReLU(alpha=0.1))\n",
    "#yolo.add(MaxPooling2D(pool_size=(2, 2),strides = (2,2), padding = 'same'))\n",
    "\n",
    "yolo.add(Reshape((200704,), input_shape=(14, 14, 1024)))\n",
    "\n",
    "yolo.add(Dense(4096))\n",
    "yolo.add(BatchNormalization())\n",
    "yolo.add(LeakyReLU(alpha=0.1))\n",
    "\n",
    "yolo.add(Dense(245))\n",
    "\n",
    "yolo.add(Reshape((7,7,5), input_shape=(245,)))'''\n",
    "\n",
    "'''\n",
    "yolo.add(Conv2D(filters=64, kernel_size= (7, 7), strides=(1, 1), input_shape =(448, 448, 3), padding = 'same', kernel_regularizer=l2(5e-4)))\n",
    "yolo.add(BatchNormalization())\n",
    "yolo.add(LeakyReLU(alpha=0.1))\n",
    "yolo.add(MaxPooling2D(pool_size=(2, 2), strides=(2, 2), padding = 'same'))\n",
    "\n",
    "yolo.add(Conv2D(filters=192, kernel_size= (3, 3), padding = 'same', kernel_regularizer=l2(5e-4)))\n",
    "yolo.add(BatchNormalization())\n",
    "yolo.add(LeakyReLU(alpha=0.1))\n",
    "yolo.add(MaxPooling2D(pool_size=(2, 2), strides=(2, 2), padding = 'same'))\n",
    "\n",
    "yolo.add(Conv2D(filters=128, kernel_size= (1, 1), padding = 'same', kernel_regularizer=l2(5e-4)))\n",
    "yolo.add(BatchNormalization())\n",
    "yolo.add(LeakyReLU(alpha=0.1))\n",
    "yolo.add(Conv2D(filters=256, kernel_size= (3, 3), padding = 'same', kernel_regularizer=l2(5e-4)))\n",
    "yolo.add(BatchNormalization())\n",
    "yolo.add(LeakyReLU(alpha=0.1))\n",
    "yolo.add(Conv2D(filters=256, kernel_size= (1, 1), padding = 'same', kernel_regularizer=l2(5e-4)))\n",
    "yolo.add(BatchNormalization())\n",
    "yolo.add(LeakyReLU(alpha=0.1))\n",
    "yolo.add(Conv2D(filters=512, kernel_size= (3, 3), padding = 'same', kernel_regularizer=l2(5e-4)))\n",
    "yolo.add(BatchNormalization())\n",
    "yolo.add(LeakyReLU(alpha=0.1))\n",
    "yolo.add(MaxPooling2D(pool_size=(2, 2), strides=(2, 2), padding = 'same'))\n",
    "\n",
    "yolo.add(Conv2D(filters=256, kernel_size= (1, 1), padding = 'same', kernel_regularizer=l2(5e-4)))\n",
    "yolo.add(BatchNormalization())\n",
    "yolo.add(LeakyReLU(alpha=0.1))\n",
    "yolo.add(Conv2D(filters=512, kernel_size= (3, 3), padding = 'same', kernel_regularizer=l2(5e-4)))\n",
    "yolo.add(BatchNormalization())\n",
    "yolo.add(LeakyReLU(alpha=0.1))\n",
    "yolo.add(Conv2D(filters=256, kernel_size= (1, 1), padding = 'same', kernel_regularizer=l2(5e-4)))\n",
    "yolo.add(BatchNormalization())\n",
    "yolo.add(LeakyReLU(alpha=0.1))\n",
    "yolo.add(Conv2D(filters=512, kernel_size= (3, 3), padding = 'same', kernel_regularizer=l2(5e-4)))\n",
    "yolo.add(BatchNormalization())\n",
    "yolo.add(LeakyReLU(alpha=0.1))\n",
    "yolo.add(Conv2D(filters=256, kernel_size= (1, 1), padding = 'same', kernel_regularizer=l2(5e-4)))\n",
    "yolo.add(BatchNormalization())\n",
    "yolo.add(LeakyReLU(alpha=0.1))\n",
    "yolo.add(Conv2D(filters=512, kernel_size= (3, 3), padding = 'same', kernel_regularizer=l2(5e-4)))\n",
    "yolo.add(BatchNormalization())\n",
    "yolo.add(LeakyReLU(alpha=0.1))\n",
    "yolo.add(Conv2D(filters=256, kernel_size= (1, 1), padding = 'same', kernel_regularizer=l2(5e-4)))\n",
    "yolo.add(BatchNormalization())\n",
    "yolo.add(LeakyReLU(alpha=0.1))\n",
    "yolo.add(Conv2D(filters=512, kernel_size= (3, 3), padding = 'same', kernel_regularizer=l2(5e-4)))\n",
    "yolo.add(BatchNormalization())\n",
    "yolo.add(LeakyReLU(alpha=0.1))\n",
    "yolo.add(Conv2D(filters=512, kernel_size= (1, 1), padding = 'same', kernel_regularizer=l2(5e-4)))\n",
    "yolo.add(BatchNormalization())\n",
    "yolo.add(LeakyReLU(alpha=0.1))\n",
    "yolo.add(Conv2D(filters=1024, kernel_size= (3, 3), padding = 'same', kernel_regularizer=l2(5e-4)))\n",
    "yolo.add(BatchNormalization())\n",
    "yolo.add(LeakyReLU(alpha=0.1))\n",
    "yolo.add(MaxPooling2D(pool_size=(2, 2), strides=(2, 2), padding = 'same'))\n",
    "\n",
    "yolo.add(Conv2D(filters=512, kernel_size= (1, 1), padding = 'same', kernel_regularizer=l2(5e-4)))\n",
    "yolo.add(BatchNormalization())\n",
    "yolo.add(LeakyReLU(alpha=0.1))\n",
    "yolo.add(Conv2D(filters=1024, kernel_size= (3, 3), padding = 'same', kernel_regularizer=l2(5e-4)))\n",
    "yolo.add(BatchNormalization())\n",
    "yolo.add(LeakyReLU(alpha=0.1))\n",
    "yolo.add(Conv2D(filters=512, kernel_size= (1, 1), padding = 'same', kernel_regularizer=l2(5e-4)))\n",
    "yolo.add(BatchNormalization())\n",
    "yolo.add(LeakyReLU(alpha=0.1))\n",
    "yolo.add(Conv2D(filters=1024, kernel_size= (3, 3), padding = 'same', kernel_regularizer=l2(5e-4)))\n",
    "yolo.add(BatchNormalization())\n",
    "yolo.add(LeakyReLU(alpha=0.1))\n",
    "yolo.add(Conv2D(filters=1024, kernel_size= (3, 3), padding = 'same', kernel_regularizer=l2(5e-4)))\n",
    "yolo.add(BatchNormalization())\n",
    "yolo.add(LeakyReLU(alpha=0.1))\n",
    "yolo.add(Conv2D(filters=1024, kernel_size= (3, 3), strides=(2, 2), padding = 'same'))\n",
    "yolo.add(BatchNormalization())\n",
    "yolo.add(LeakyReLU(alpha=0.1))\n",
    "\n",
    "yolo.add(Conv2D(filters=1024, kernel_size= (3, 3), kernel_regularizer=l2(5e-4)))\n",
    "yolo.add(BatchNormalization())\n",
    "yolo.add(LeakyReLU(alpha=0.1))\n",
    "yolo.add(Conv2D(filters=1024, kernel_size= (3, 3), kernel_regularizer=l2(5e-4)))\n",
    "yolo.add(BatchNormalization())\n",
    "yolo.add(LeakyReLU(alpha=0.1))\n",
    "\n",
    "yolo.add(Flatten())\n",
    "yolo.add(Dense(512))\n",
    "yolo.add(Dense(1024))\n",
    "yolo.add(Dropout(0.5))\n",
    "\n",
    "yolo.add(Dense(245))\n",
    "\n",
    "yolo.add(Reshape((7,7,5), input_shape=(245,)))\n",
    "'''"
   ]
  },
  {
   "cell_type": "code",
   "execution_count": null,
   "metadata": {
    "id": "F2gRveHMmSsM"
   },
   "outputs": [],
   "source": [
    "#IF YOU WANT TO RESUME TRAINING FROM SAVED WEIGHTS COMPILE THIS CELL\n",
    "yolo.load_weights(r'C:\\Users\\franc\\Desktop\\Yolo_Hand\\CheckPoints\\yolo_small.h5')"
   ]
  },
  {
   "cell_type": "markdown",
   "metadata": {
    "id": "25b2ogxYp2OT"
   },
   "source": [
    "# TRAINING\n",
    "Perform the training of the model chose from 1. 2. 3. or 4. (don't need to run this cell if you loaded the already trained architecture in 1. !)\n",
    "\n",
    "For now accuracy seems to be always low, don't know why though"
   ]
  },
  {
   "cell_type": "code",
   "execution_count": 34,
   "metadata": {
    "id": "7wLscl6S9bVb"
   },
   "outputs": [],
   "source": [
    "# Can also try the standard sum squared loss that penalizes everything equally\n",
    "# just use : tf.keras.losses.MeanSquaredError(reduction = \"sum\")\n",
    "\n",
    "training_generator = DataGenerator(img_paths, bboxes)\n",
    "\n",
    "checkpoint_filepath = r'C:\\Users\\39380\\Desktop\\Yolo_DATASET\\CheckPoints\\yolo_small.h5'\n",
    "\n",
    "model_checkpoint_callback = tf.keras.callbacks.ModelCheckpoint(filepath=checkpoint_filepath,save_weights_only=True)\n",
    "#optimizer = tf.keras.optimizers.SGD(learning_rate=0.01, momentum=0.0, nesterov=False, name=\"SGD\")\n",
    "yolo.compile(optimizer = 'adam',loss='binary_crossentropy', metrics = tf.keras.metrics.BinaryAccuracy())"
   ]
  },
  {
   "cell_type": "code",
   "execution_count": 35,
   "metadata": {
    "colab": {
     "base_uri": "https://localhost:8080/"
    },
    "id": "8GRV-Ixw9kNO",
    "outputId": "f87dbfb4-f528-4c85-c2e3-5202adbd3532",
    "scrolled": true
   },
   "outputs": [
    {
     "name": "stdout",
     "output_type": "stream",
     "text": [
      "Epoch 1/7\n",
      "217/217 [==============================] - 3268s 15s/step - loss: 0.1575 - binary_accuracy: 0.9388\n",
      "Epoch 2/7\n",
      "217/217 [==============================] - 3110s 14s/step - loss: 0.1243 - binary_accuracy: 0.9437\n",
      "Epoch 3/7\n",
      "217/217 [==============================] - 3081s 14s/step - loss: 0.1011 - binary_accuracy: 0.9416\n",
      "Epoch 4/7\n",
      "217/217 [==============================] - 3248s 15s/step - loss: 0.0430 - binary_accuracy: 0.9382\n",
      "Epoch 5/7\n",
      "217/217 [==============================] - 3159s 15s/step - loss: -0.0164 - binary_accuracy: 0.9411\n",
      "Epoch 6/7\n",
      "217/217 [==============================] - 3185s 15s/step - loss: -0.0786 - binary_accuracy: 0.9473\n",
      "Epoch 7/7\n",
      "217/217 [==============================] - 3289s 15s/step - loss: -0.1209 - binary_accuracy: 0.9521\n"
     ]
    }
   ],
   "source": [
    "history = yolo.fit(x = training_generator, epochs=7, verbose=1, callbacks=[model_checkpoint_callback])"
   ]
  },
  {
   "cell_type": "code",
   "execution_count": 37,
   "metadata": {
    "colab": {
     "base_uri": "https://localhost:8080/",
     "height": 590
    },
    "id": "oo83EQzYS0lS",
    "outputId": "1599acda-c629-48e8-98d7-b5896b0bc261"
   },
   "outputs": [
    {
     "name": "stdout",
     "output_type": "stream",
     "text": [
      "dict_keys(['loss', 'binary_accuracy'])\n"
     ]
    },
    {
     "data": {
      "image/png": "[encoded data removed]",
      "text/plain": [
       "<Figure size 432x288 with 1 Axes>"
      ]
     },
     "metadata": {
      "needs_background": "light"
     },
     "output_type": "display_data"
    },
    {
     "data": {
      "image/png": "[encoded data removed]",
      "text/plain": [
       "<Figure size 432x288 with 1 Axes>"
      ]
     },
     "metadata": {
      "needs_background": "light"
     },
     "output_type": "display_data"
    },
    {
     "ename": "KeyError",
     "evalue": "'accuracy'",
     "output_type": "error",
     "traceback": [
      "\u001b[1;31m---------------------------------------------------------------------------\u001b[0m",
      "\u001b[1;31mKeyError\u001b[0m                                  Traceback (most recent call last)",
      "\u001b[1;32m<ipython-input-37-fe5dbeb16175>\u001b[0m in \u001b[0;36m<module>\u001b[1;34m\u001b[0m\n\u001b[0;32m     21\u001b[0m \u001b[0msavemat\u001b[0m\u001b[1;33m(\u001b[0m\u001b[1;34mr'C:\\Users\\39380\\Desktop\\Yolo_DATASET\\TrainResults\\loss_small.mat'\u001b[0m\u001b[1;33m,\u001b[0m \u001b[0mmdic\u001b[0m\u001b[1;33m)\u001b[0m\u001b[1;33m\u001b[0m\u001b[1;33m\u001b[0m\u001b[0m\n\u001b[0;32m     22\u001b[0m \u001b[1;33m\u001b[0m\u001b[0m\n\u001b[1;32m---> 23\u001b[1;33m \u001b[0mmdic\u001b[0m \u001b[1;33m=\u001b[0m \u001b[1;33m{\u001b[0m\u001b[1;34m\"accuracy\"\u001b[0m\u001b[1;33m:\u001b[0m \u001b[0mhistory\u001b[0m\u001b[1;33m.\u001b[0m\u001b[0mhistory\u001b[0m\u001b[1;33m[\u001b[0m\u001b[1;34m'accuracy'\u001b[0m\u001b[1;33m]\u001b[0m \u001b[1;33m}\u001b[0m\u001b[1;33m\u001b[0m\u001b[1;33m\u001b[0m\u001b[0m\n\u001b[0m\u001b[0;32m     24\u001b[0m \u001b[0msavemat\u001b[0m\u001b[1;33m(\u001b[0m\u001b[1;34mr'C:\\Users\\39380\\Desktop\\Yolo_DATASET\\TrainResults\\accuracy_small.mat'\u001b[0m\u001b[1;33m,\u001b[0m \u001b[0mmdic\u001b[0m\u001b[1;33m)\u001b[0m\u001b[1;33m\u001b[0m\u001b[1;33m\u001b[0m\u001b[0m\n",
      "\u001b[1;31mKeyError\u001b[0m: 'accuracy'"
     ]
    }
   ],
   "source": [
    "from scipy.io import savemat\n",
    "\n",
    "#Some plots for the training!\n",
    "print(history.history.keys())\n",
    "# summarize history for accuracy\n",
    "plt.plot(history.history['binary_accuracy'])\n",
    "plt.title('model accuracy')\n",
    "plt.ylabel('accuracy')\n",
    "plt.xlabel('epoch')\n",
    "plt.show()\n",
    "# summarize history for loss\n",
    "plt.plot(history.history['loss'])\n",
    "plt.title('model loss')\n",
    "plt.ylabel('loss')\n",
    "plt.xlabel('epoch')\n",
    "plt.legend(['train'], loc='upper left')\n",
    "plt.show()\n",
    "\n",
    "#Save the matrices for the plots\n",
    "mdic = {\"loss\": history.history['loss'] }\n",
    "savemat(r'C:\\Users\\39380\\Desktop\\Yolo_DATASET\\TrainResults\\loss_small.mat', mdic)\n",
    "\n",
    "mdic = {\"accuracy\": history.history['accuracy'] }\n",
    "savemat(r'C:\\Users\\39380\\Desktop\\Yolo_DATASET\\TrainResults\\accuracy_small.mat', mdic)"
   ]
  },
  {
   "cell_type": "markdown",
   "metadata": {
    "id": "hMr5SOhQPzlp"
   },
   "source": [
    "# TESTING\n",
    "Visualize how the model works in some test images"
   ]
  },
  {
   "cell_type": "code",
   "execution_count": 38,
   "metadata": {
    "id": "IZWBUeUjoDRM"
   },
   "outputs": [],
   "source": [
    "#Function to transform the output of the network in the correct format\n",
    "def decode_net_out(out):\n",
    "    # IN : out [7x7x5]\n",
    "    # RETURNS : bboxes [list] of the best training boxes\n",
    "    cell_size = 448/7\n",
    "    bboxes = []\n",
    "    confidences = []\n",
    "    for i in range(0,7):\n",
    "        for j in range(0,7):\n",
    "            if out[i][j][0] > 0.5: #CONFIDENCE THRESHOLD (P of the cell)\n",
    "                bbox = np.zeros((4))\n",
    "                ox_cell = out[i][j][1]\n",
    "                oy_cell = out[i][j][2]\n",
    "                w_cell = out[i][j][3]\n",
    "                h_cell = out[i][j][4]\n",
    "                if(ox_cell != 0 and oy_cell !=0):\n",
    "                    ox = int(ox_cell*cell_size + cell_size*j)\n",
    "                    oy = int(oy_cell*cell_size + cell_size*i)\n",
    "                    w = w_cell*cell_size\n",
    "                    h = h_cell*cell_size\n",
    "                    lx = ox - w/2\n",
    "                    ly = oy - h/2\n",
    "                    bbox = [out[i][j][0],int(lx),int(ly),int(w),int(h)]\n",
    "                    bboxes.append(bbox)\n",
    "    return bboxes"
   ]
  },
  {
   "cell_type": "code",
   "execution_count": 39,
   "metadata": {
    "colab": {
     "base_uri": "https://localhost:8080/",
     "height": 1000
    },
    "id": "UszPiO9Dav1D",
    "outputId": "5f3d8ed8-8a1c-43dc-c544-c829638a1cb7"
   },
   "outputs": [
    {
     "name": "stdout",
     "output_type": "stream",
     "text": [
      "1/1 [==============================] - 1s 619ms/step\n"
     ]
    },
    {
     "ename": "IndexError",
     "evalue": "list index out of range",
     "output_type": "error",
     "traceback": [
      "\u001b[1;31m---------------------------------------------------------------------------\u001b[0m",
      "\u001b[1;31mIndexError\u001b[0m                                Traceback (most recent call last)",
      "\u001b[1;32m<ipython-input-39-bd652181331c>\u001b[0m in \u001b[0;36m<module>\u001b[1;34m\u001b[0m\n\u001b[0;32m      2\u001b[0m \u001b[1;32mfor\u001b[0m \u001b[0mh\u001b[0m \u001b[1;32min\u001b[0m \u001b[0mrange\u001b[0m\u001b[1;33m(\u001b[0m\u001b[1;36m0\u001b[0m\u001b[1;33m,\u001b[0m \u001b[1;36m5\u001b[0m\u001b[1;33m)\u001b[0m\u001b[1;33m:\u001b[0m\u001b[1;33m\u001b[0m\u001b[1;33m\u001b[0m\u001b[0m\n\u001b[0;32m      3\u001b[0m     \u001b[0mi\u001b[0m \u001b[1;33m=\u001b[0m \u001b[0mrandom\u001b[0m\u001b[1;33m.\u001b[0m\u001b[0mrandint\u001b[0m\u001b[1;33m(\u001b[0m\u001b[1;36m0\u001b[0m\u001b[1;33m,\u001b[0m\u001b[1;36m16510\u001b[0m\u001b[1;33m)\u001b[0m\u001b[1;33m\u001b[0m\u001b[1;33m\u001b[0m\u001b[0m\n\u001b[1;32m----> 4\u001b[1;33m     \u001b[0mimage\u001b[0m \u001b[1;33m=\u001b[0m \u001b[0mcv2\u001b[0m\u001b[1;33m.\u001b[0m\u001b[0mimread\u001b[0m\u001b[1;33m(\u001b[0m\u001b[0mimg_paths\u001b[0m\u001b[1;33m[\u001b[0m\u001b[0mi\u001b[0m\u001b[1;33m]\u001b[0m\u001b[1;33m)\u001b[0m\u001b[1;33m\u001b[0m\u001b[1;33m\u001b[0m\u001b[0m\n\u001b[0m\u001b[0;32m      5\u001b[0m     \u001b[0mwidth\u001b[0m\u001b[1;33m,\u001b[0m\u001b[0mheight\u001b[0m\u001b[1;33m,\u001b[0m\u001b[0mchannels\u001b[0m \u001b[1;33m=\u001b[0m \u001b[0mimage\u001b[0m\u001b[1;33m.\u001b[0m\u001b[0mshape\u001b[0m\u001b[1;33m\u001b[0m\u001b[1;33m\u001b[0m\u001b[0m\n\u001b[0;32m      6\u001b[0m     \u001b[0mimage_show\u001b[0m \u001b[1;33m=\u001b[0m \u001b[0mcv2\u001b[0m\u001b[1;33m.\u001b[0m\u001b[0mresize\u001b[0m\u001b[1;33m(\u001b[0m\u001b[0mimage\u001b[0m\u001b[1;33m,\u001b[0m\u001b[1;33m(\u001b[0m\u001b[1;36m448\u001b[0m\u001b[1;33m,\u001b[0m\u001b[1;36m448\u001b[0m\u001b[1;33m)\u001b[0m\u001b[1;33m)\u001b[0m\u001b[1;33m\u001b[0m\u001b[1;33m\u001b[0m\u001b[0m\n",
      "\u001b[1;31mIndexError\u001b[0m: list index out of range"
     ]
    }
   ],
   "source": [
    "import random\n",
    "for h in range(0, 5):\n",
    "    i = random.randint(0,16510)\n",
    "    image = cv2.imread(img_paths[i])\n",
    "    width,height,channels = image.shape\n",
    "    image_show = cv2.resize(image,(448,448))\n",
    "    loaded_img = load_img(img_paths[i], target_size=(448, 448))\n",
    "    scale_w = 448 / width \n",
    "    scale_h = 448 / height\n",
    "    image = img_to_array(loaded_img)\n",
    "    # scale pixel values to [0, 1]\n",
    "    image = image.astype('float32')\n",
    "    image /= 255.0\n",
    "    in_net = np.expand_dims(image, axis=0) #Expand dimension because the network works with batches as input\n",
    "\n",
    "    out_net = yolo.predict(in_net)\n",
    "    out_bboxes = decode_net_out(out_net[0])\n",
    "\n",
    "    # Drawing the regions in the Image\n",
    "    for (P,x, y, w, h) in out_bboxes:\n",
    "        cv2.rectangle(image_show, (x, y), \n",
    "                        (x + w, y + h), \n",
    "                        (0, 0, 255), 2)\n",
    "        cv2.putText(image_show, 'Hand: ' + str(P), (x, y-10), cv2.FONT_HERSHEY_SIMPLEX, w/448 + 0.2, (36,255,12), 1)\n",
    "    window_name = 'image'\n",
    "    cv2.imshow('image',image_show)\n",
    "    cv2.waitKey(0)\n",
    "    cv2.destroyAllWindows()"
   ]
  },
  {
   "cell_type": "markdown",
   "metadata": {
    "id": "AesRHOaYZu_z"
   },
   "source": [
    "# TESTING ON EVALUATION SET!"
   ]
  },
  {
   "cell_type": "code",
   "execution_count": 40,
   "metadata": {
    "colab": {
     "base_uri": "https://localhost:8080/"
    },
    "id": "B377suGpZ3m3",
    "outputId": "3d533e86-26a6-49c1-bac8-eff031b3840a"
   },
   "outputs": [],
   "source": [
    "test_bboxes_paths = natsorted(listdir_fullpath(r'C:\\Users\\39380\\Desktop\\Yolo_DATASET\\Test_Hands\\Test_Hands\\Bboxes'))\n",
    "test_img_paths = natsorted(listdir_fullpath(r'C:\\Users\\39380\\Desktop\\Yolo_DATASET\\Test_Hands\\Test_Hands\\Images'))\n",
    "\n",
    "#Read all the text files and create a list of list of bounding boxes, one list per image \n",
    "test_bboxes = []*len(test_bboxes_paths)\n",
    "for path in test_bboxes_paths:\n",
    "    bboxes_it = []\n",
    "    file = open(path, 'r')\n",
    "    Lines = file.readlines()\n",
    "    for line in Lines:\n",
    "        bboxes_it.append([int(x) for x in line.split()]) #Separated by white spaces\n",
    "    test_bboxes.append(bboxes_it)\n",
    "\n",
    "#Creation of the scaled down 448x448 version of the ground truth bboxes \n",
    "test_bboxes_scaled = []\n",
    "for i in range(0,len(test_img_paths)):\n",
    "    bboxes_it = []\n",
    "    original_img = load_img(test_img_paths[i])\n",
    "    width, height = original_img.size\n",
    "    scale_w = 448 / width \n",
    "    scale_h = 448 / height\n",
    "\n",
    "    for box in test_bboxes[i]:\n",
    "        xleft = int(box[0] * scale_w)\n",
    "        yleft = int(box[1] * scale_h)\n",
    "        b_width = int(box[2] * scale_w)\n",
    "        b_height = int(box[3] * scale_h)\n",
    "        new_bbox = [xleft,yleft,b_width,b_height]\n",
    "        bboxes_it.append(new_bbox)\n",
    "    test_bboxes_scaled.append(bboxes_it)"
   ]
  },
  {
   "cell_type": "code",
   "execution_count": 41,
   "metadata": {
    "id": "HsejtZTgaE1t"
   },
   "outputs": [],
   "source": [
    "def calc_iou(prop_bbox, ground_truth):\n",
    "    #This function takes as input a single prop_bbox and a single ground_truth bbox and return their intersection \n",
    "    #over union\n",
    "\n",
    "    P,p_x, p_y, p_w, p_h = prop_bbox\n",
    "    g_x, g_y, g_w, g_h = ground_truth\n",
    "\n",
    "    #Non overlapping cases then IoU = 0.0:\n",
    "    #-Bottom_right smaller than top left\n",
    "    if((p_x + p_w) < g_x):\n",
    "        return 0.0\n",
    "    if((p_y + p_h) < g_y):\n",
    "        return 0.0\n",
    "    if((g_x + g_w) < p_x):\n",
    "        return 0.0\n",
    "    if((g_y + g_h) < p_y):\n",
    "        return 0.0\n",
    "\n",
    "    #Top left corner of intersection\n",
    "    x_in = max(p_x, g_x)\n",
    "    y_in = max(p_y, g_y)\n",
    "    #Bottom right corner of intersection\n",
    "    x1_in = min(p_x + p_w, g_x + g_w)\n",
    "    y1_in = min(p_y + p_h, g_y + g_h)\n",
    "    w_in = x1_in - x_in\n",
    "    h_in = y1_in - y_in\n",
    "    #Area intersection\n",
    "    area_in = w_in * h_in\n",
    "\n",
    "    #Area union\n",
    "    area_un = (p_w * p_h) + (g_w * g_h) - area_in\n",
    "\n",
    "    #Intersection Over Union\n",
    "    IoU = area_in / area_un\n",
    "\n",
    "    return IoU"
   ]
  },
  {
   "cell_type": "code",
   "execution_count": 42,
   "metadata": {
    "id": "3EtaXhrYaMM6"
   },
   "outputs": [],
   "source": [
    "def single_img_results(prop_bboxes, true_bboxes):\n",
    "    #This function returns the average IOU for a single image given its proposed bboxes and corresponding\n",
    "    #ground truth\n",
    "\n",
    "    if(len(prop_bboxes)== 0):\n",
    "        return 0.0\n",
    "\n",
    "    max_Ious = []\n",
    "\n",
    "    #For each ground truth find the prop bbox that overlaps the most\n",
    "    for true_bbox in true_bboxes:\n",
    "        Iou_results = []\n",
    "        for prop_bbox in prop_bboxes:\n",
    "            Iou_results.append(calc_iou(prop_bbox,true_bbox))\n",
    "        max_Ious.append(max(Iou_results))\n",
    "\n",
    "    #If there are more ground truth than len of max_Ious fill the list with 0s until their lenght are the same\n",
    "    if(len(true_bboxes)>len(max_Ious)):\n",
    "        app = [0.0]*len(len(true_bboxes)-len(max_Ious))\n",
    "        max_Ious.append(app)\n",
    "\n",
    "    avg_Iou = sum(max_Ious)/len(max_Ious)\n",
    "    return(avg_Iou)"
   ]
  },
  {
   "cell_type": "markdown",
   "metadata": {
    "id": "vp6xiNpCaWL7"
   },
   "source": [
    "Now for each test image get the average IoU of the ground truth bboxes and proposed bboxes and consider"
   ]
  },
  {
   "cell_type": "code",
   "execution_count": 44,
   "metadata": {
    "colab": {
     "base_uri": "https://localhost:8080/",
     "height": 1000
    },
    "id": "Rb5xWegKaXNP",
    "outputId": "d3dcd0b6-71f9-41ff-ab49-048e035e737b"
   },
   "outputs": [
    {
     "name": "stdout",
     "output_type": "stream",
     "text": [
      "1/1 [==============================] - 0s 228ms/step\n",
      "0.47927291892625046\n",
      "1/1 [==============================] - 0s 220ms/step\n",
      "0.3709459685553532\n",
      "1/1 [==============================] - 0s 200ms/step\n",
      "0.4001384973293171\n",
      "1/1 [==============================] - 0s 226ms/step\n",
      "0.3319490294358731\n",
      "1/1 [==============================] - 0s 199ms/step\n",
      "0.1451075906164141\n",
      "1/1 [==============================] - 0s 215ms/step\n",
      "0.2936651021519483\n",
      "1/1 [==============================] - 0s 250ms/step\n",
      "0.30780273415363296\n",
      "1/1 [==============================] - 0s 223ms/step\n",
      "0.5747949637255982\n",
      "1/1 [==============================] - 0s 223ms/step\n",
      "0.07111071555713777\n",
      "1/1 [==============================] - 0s 219ms/step\n",
      "0.631212239190541\n",
      "1/1 [==============================] - 0s 208ms/step\n",
      "0.20096875444821183\n",
      "1/1 [==============================] - 0s 207ms/step\n",
      "0.23692961733118717\n",
      "1/1 [==============================] - 0s 208ms/step\n",
      "0.1306904520762325\n",
      "1/1 [==============================] - 0s 202ms/step\n",
      "0.09663469011901962\n",
      "1/1 [==============================] - 0s 220ms/step\n",
      "0.06459261896136732\n",
      "1/1 [==============================] - 0s 213ms/step\n",
      "0.22766668037496693\n",
      "1/1 [==============================] - 0s 216ms/step\n",
      "0.17847030649076542\n",
      "1/1 [==============================] - 0s 235ms/step\n",
      "0.14012500416318377\n",
      "1/1 [==============================] - 0s 211ms/step\n",
      "0.22673915887004492\n",
      "1/1 [==============================] - 0s 201ms/step\n",
      "0.15842033779153655\n",
      "1/1 [==============================] - 0s 203ms/step\n",
      "0.0\n",
      "1/1 [==============================] - 0s 216ms/step\n",
      "0.49780782417743125\n",
      "1/1 [==============================] - 0s 208ms/step\n",
      "0.14822114910811077\n",
      "1/1 [==============================] - 0s 211ms/step\n",
      "0.0\n",
      "1/1 [==============================] - 0s 207ms/step\n",
      "0.12350482397201934\n",
      "1/1 [==============================] - 0s 184ms/step\n",
      "0.09479287202036565\n",
      "1/1 [==============================] - 0s 196ms/step\n",
      "0.3089993687817488\n",
      "1/1 [==============================] - 0s 383ms/step\n",
      "0.08318356867779204\n",
      "1/1 [==============================] - 0s 193ms/step\n",
      "0.1270730614074406\n",
      "1/1 [==============================] - 0s 223ms/step\n",
      "0.23641834743005855\n",
      "TOTAL AVG IOU = 0.22957461319478498\n"
     ]
    }
   ],
   "source": [
    "avg_Ious = []\n",
    "for i in range(0, len(test_img_paths)):\n",
    "    loaded_img = load_img(test_img_paths[i], target_size=(448, 448))\n",
    "    image = img_to_array(loaded_img)\n",
    "    # scale pixel values to [0, 1]\n",
    "    image = image.astype('float32')\n",
    "    image /= 255.0\n",
    "    in_net = np.expand_dims(image, axis=0) #Expand dimension because the network works with batches as input\n",
    "\n",
    "    out_net = yolo.predict(in_net)\n",
    "    prop_bboxes = decode_net_out(out_net[0])\n",
    "\n",
    "    avg_Iou = single_img_results(prop_bboxes, test_bboxes_scaled[i])\n",
    "    print(avg_Iou)\n",
    "    avg_Ious.append(avg_Iou)\n",
    "\n",
    "    #DRAW THE IMAGE\n",
    "    image = cv2.imread(test_img_paths[i])\n",
    "    width,height,channels = image.shape\n",
    "    scale_w = 448/width\n",
    "    scale_h = 448/height\n",
    "    image_show = cv2.resize(image,(448,448))\n",
    "    # Drawing the regions in the Image\n",
    "    for (P,x, y, w, h) in prop_bboxes:\n",
    "        cv2.rectangle(image_show, (x, y), \n",
    "                      (x + w, y + h), \n",
    "                       (0, 0, 255), 2)\n",
    "        cv2.putText(image_show, 'Hand: ' + str(P), (x, y-10), cv2.FONT_HERSHEY_SIMPLEX, w/448 + 0.2, (36,255,12), 1)\n",
    "    for (x, y, w, h) in test_bboxes_scaled[i]:\n",
    "        cv2.rectangle(image_show, (x, y), \n",
    "                      (x + w, y + h), \n",
    "                       (0, 255, 0), 2)\n",
    "    window_name = 'image'\n",
    "    cv2.imshow('image',image_show)\n",
    "    cv2.waitKey(0)\n",
    "    cv2.destroyAllWindows()\n",
    "\n",
    "print(\"TOTAL AVG IOU = \" + str(sum(avg_Ious)/len(avg_Ious)))"
   ]
  },
  {
   "cell_type": "markdown",
   "metadata": {
    "id": "oTiUhf5aQRtr"
   },
   "source": [
    "# IF YOU FOUND A BETTER MODEL\n",
    "Run this cell after creating a new google drive folder to save the new best model"
   ]
  },
  {
   "cell_type": "code",
   "execution_count": null,
   "metadata": {
    "id": "chp-w23-mlqe"
   },
   "outputs": [],
   "source": [
    "yolo.save_weights('/content/drive/MyDrive/YOLO_BEST/yolo_best.h5')"
   ]
  }
 ],
 "metadata": {
  "colab": {
   "collapsed_sections": [
    "2QiQc0GANMr9"
   ],
   "name": "Copia di Yolo_training.ipynb",
   "provenance": []
  },
  "gpuClass": "standard",
  "kernelspec": {
   "display_name": "Python 3",
   "language": "python",
   "name": "python3"
  },
  "language_info": {
   "codemirror_mode": {
    "name": "ipython",
    "version": 3
   },
   "file_extension": ".py",
   "mimetype": "text/x-python",
   "name": "python",
   "nbconvert_exporter": "python",
   "pygments_lexer": "ipython3",
   "version": "3.8.5"
  }
 },
 "nbformat": 4,
 "nbformat_minor": 1
}
